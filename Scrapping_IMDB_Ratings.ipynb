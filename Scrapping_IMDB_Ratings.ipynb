{
  "nbformat": 4,
  "nbformat_minor": 0,
  "metadata": {
    "colab": {
      "provenance": [],
      "authorship_tag": "ABX9TyNxUD+pA5D2Oy9bL/rDww48",
      "include_colab_link": true
    },
    "kernelspec": {
      "name": "python3",
      "display_name": "Python 3"
    },
    "language_info": {
      "name": "python"
    }
  },
  "cells": [
    {
      "cell_type": "markdown",
      "metadata": {
        "id": "view-in-github",
        "colab_type": "text"
      },
      "source": [
        "<a href=\"https://colab.research.google.com/github/DeepakKr2899/Scrapping_IMDB_Ratings/blob/main/Scrapping_IMDB_Ratings.ipynb\" target=\"_parent\"><img src=\"https://colab.research.google.com/assets/colab-badge.svg\" alt=\"Open In Colab\"/></a>"
      ]
    },
    {
      "cell_type": "code",
      "execution_count": null,
      "metadata": {
        "id": "9xeUQgrUBwBJ"
      },
      "outputs": [],
      "source": [
        "from bs4 import BeautifulSoup\n",
        "import requests\n",
        "import pandas as pd\n"
      ]
    },
    {
      "cell_type": "code",
      "source": [
        "url='https://www.imdb.com/chart/top'\n",
        "\n",
        "try:\n",
        "    source=requests.get(url)\n",
        "    source.raise_for_status()\n",
        "    \n",
        "    soup=BeautifulSoup(source.text,'html.parser')\n",
        "    \n",
        "    \n",
        "    movies=soup.find('tbody',class_='lister-list').find_all('tr')\n",
        "    \n",
        "    Rank=[]\n",
        "    Name=[]\n",
        "    Year=[]\n",
        "    Rating=[]\n",
        "    for movie in movies:\n",
        "        rank=movie.find('td',class_='titleColumn').text.strip().split('.')[0]\n",
        "        name=movie.find('td',class_='titleColumn').a.text\n",
        "        year=movie.find('td',class_='titleColumn').span.text.strip(\"()\")\n",
        "        rating=movie.find('td',class_='ratingColumn imdbRating').strong.text\n",
        "        \n",
        "        \n",
        "        Rank.append(rank)\n",
        "        Name.append(name)\n",
        "        Year.append(year)\n",
        "        Rating.append(rating)\n",
        "        \n",
        "    data={'Rank':Rank,'Name':Name,'Year':Year,'Rating':Rating}\n",
        "    FinalData=pd.DataFrame(data)\n",
        "    \n",
        "except Exception as e:\n",
        "    print(e)\n",
        "    \n",
        "\n"
      ],
      "metadata": {
        "id": "9Tsha6BBDLah"
      },
      "execution_count": 7,
      "outputs": []
    },
    {
      "cell_type": "code",
      "source": [
        "# To save data as csv file we can do it through pandas as well using below command.\n",
        "FinalData.to_csv('IMDB_ratings.csv', index=False)"
      ],
      "metadata": {
        "id": "oNiweBsgKZcl"
      },
      "execution_count": 8,
      "outputs": []
    },
    {
      "cell_type": "code",
      "source": [],
      "metadata": {
        "id": "ffUsuPfwJqoB"
      },
      "execution_count": null,
      "outputs": []
    }
  ]
}